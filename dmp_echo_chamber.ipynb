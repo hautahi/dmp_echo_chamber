{
 "cells": [
  {
   "cell_type": "markdown",
   "metadata": {},
   "source": [
    "<!---\n",
    "layout: post\n",
    "title: Dynamic Message Passing and the \"Echo Chamber\" Effect\n",
    "mathjax: true\n",
    "tags: \n",
    "- Python\n",
    "- Network Analysis\n",
    "- Dynamic Message Passing\n",
    "- Echo Chamber Effect\n",
    "--->\n",
    "\n",
    "# Dynamic Message Passing and the \"Echo Chamber\" Effect\n",
    "\n",
    "The modeling of epidemic spreading has many practical applications - from disease epidemiology to the spread of online rumors. Traditional approaches like the classical SIR model assume a \"fully mixed\" population where interaction between any two individuals is equally likely. These models are popular because they admit simple equations that provide a good general guide to population-level spread dynamics.\n",
    "\n",
    "However, contacts between individuals generally differ a lot - some pairs interact more than others. Network epidemiology builds on the traditional approaches by assuming individuals interact on a network that reflects more realistic mixing patterns. But there is a cost - relaxing the fully mixed assumption substantially increases model complexity. For example, computing the infection probabilities of each node over time requires keeping track of the entire joint distribution of nodes. With $n$ individuals that can each be in one of $k$ states, the resuling system of $k^n$ variables quickly becomes computationally intractable, even on moderately sized networks. This means that we generally have to resort to expensive Monte Carlo simulations. A lot of attention has therefore focused on developing analytical approximations that can be computed quickly.\n",
    "\n",
    "But naive approximation methods based on straightforward SIR-type equations suffer from the \"Echo Chamber\" effect, where pairs of adjacent nodes amplify each other's infection probability. This post begins by explaining why intuitive approaches result in this overestimation of infection risk, then implements one of the most popular analytical approaches to overcome this issue - Dynamic Message Passing (DMP) - originally developed in this context by [Karrer and Newman (2010)](https://arxiv.org/abs/1003.5673) with a lot of subsequent work by others ([Lokhov et al. 2014](https://arxiv.org/abs/1303.5315); [Shrestha et al. 2015](https://arxiv.org/abs/1505.02192); [Koher et al. 2018](https://arxiv.org/abs/1811.05809)). We'll focus on a simple discrete time [SI model](https://en.wikipedia.org/wiki/Compartmental_models_in_epidemiology#Variations_on_the_basic_SIR_model) on a static network in which infected nodes transmit disease to susceptible neighbors with probability $\\beta$ each period, and compare estimates of the infection probabilities for each node $i$, $I_i(t)$, across three approaches - Monte Carlo simulation, a naive analytical approach, and DMP.\n",
    "\n",
    "We'll start by creating a simple two-node network to help motivate our intuition. The directed network is represented as a simple two column dataframe with the first and second columns giving the `source` and `target` nodes, respectively, of each directed edge (see a [previous blog post](https://hautahi.com/ic_comparison) comparing four different ways of representing networks in Python)."
   ]
  },
  {
   "cell_type": "code",
   "execution_count": 7,
   "metadata": {},
   "outputs": [
    {
     "data": {
      "image/svg+xml": [
       "<?xml version=\"1.0\" encoding=\"UTF-8\"?>\n",
       "<svg xmlns=\"http://www.w3.org/2000/svg\" xmlns:xlink=\"http://www.w3.org/1999/xlink\" width=\"150pt\" height=\"150pt\" viewBox=\"0 0 150 150\" version=\"1.1\">\n",
       "<defs>\n",
       "<g>\n",
       "<symbol overflow=\"visible\" id=\"glyph0-0\">\n",
       "<path style=\"stroke:none;\" d=\"M 0.453125 0 L 0.453125 -10.042969 L 8.421875 -10.042969 L 8.421875 0 Z M 7.164062 -1.257812 L 7.164062 -8.785156 L 1.710938 -8.785156 L 1.710938 -1.257812 Z M 7.164062 -1.257812 \"/>\n",
       "</symbol>\n",
       "<symbol overflow=\"visible\" id=\"glyph0-1\">\n",
       "<path style=\"stroke:none;\" d=\"M 1.339844 -6.929688 L 1.339844 -7.875 C 2.226562 -7.960938 2.847656 -8.105469 3.199219 -8.308594 C 3.550781 -8.511719 3.8125 -8.992188 3.984375 -9.75 L 4.957031 -9.75 L 4.957031 0 L 3.644531 0 L 3.644531 -6.929688 Z M 1.339844 -6.929688 \"/>\n",
       "</symbol>\n",
       "<symbol overflow=\"visible\" id=\"glyph0-2\">\n",
       "<path style=\"stroke:none;\" d=\"M 3.789062 -9.789062 C 5.054688 -9.789062 5.96875 -9.265625 6.535156 -8.222656 C 6.972656 -7.417969 7.191406 -6.3125 7.191406 -4.90625 C 7.191406 -3.578125 6.992188 -2.476562 6.597656 -1.605469 C 6.023438 -0.359375 5.082031 0.265625 3.78125 0.265625 C 2.605469 0.265625 1.730469 -0.242188 1.15625 -1.265625 C 0.675781 -2.117188 0.4375 -3.261719 0.4375 -4.695312 C 0.4375 -5.808594 0.582031 -6.761719 0.867188 -7.5625 C 1.40625 -9.046875 2.378906 -9.789062 3.789062 -9.789062 Z M 3.773438 -0.855469 C 4.410156 -0.855469 4.917969 -1.136719 5.296875 -1.703125 C 5.675781 -2.265625 5.867188 -3.320312 5.867188 -4.859375 C 5.867188 -5.972656 5.726562 -6.886719 5.453125 -7.605469 C 5.179688 -8.324219 4.652344 -8.679688 3.863281 -8.679688 C 3.136719 -8.679688 2.609375 -8.339844 2.273438 -7.660156 C 1.9375 -6.976562 1.769531 -5.976562 1.769531 -4.648438 C 1.769531 -3.648438 1.878906 -2.847656 2.09375 -2.242188 C 2.421875 -1.316406 2.980469 -0.855469 3.773438 -0.855469 Z M 3.773438 -0.855469 \"/>\n",
       "</symbol>\n",
       "</g>\n",
       "</defs>\n",
       "<g id=\"surface8\">\n",
       "<rect x=\"0\" y=\"0\" width=\"150\" height=\"150\" style=\"fill:rgb(100%,100%,100%);fill-opacity:1;stroke:none;\"/>\n",
       "<path style=\"fill:none;stroke-width:1;stroke-linecap:butt;stroke-linejoin:miter;stroke:rgb(70.196078%,80.392157%,89.019608%);stroke-opacity:1;stroke-miterlimit:10;\" d=\"M 20 130 C 22.210938 73.152344 50.179688 33.492188 106.105469 24.039062 \"/>\n",
       "<path style=\" stroke:none;fill-rule:nonzero;fill:rgb(70.196078%,80.392157%,89.019608%);fill-opacity:1;\" d=\"M 120.171875 21.660156 L 106.878906 28.609375 L 105.332031 19.46875 L 120.171875 21.660156 \"/>\n",
       "<path style=\"fill:none;stroke-width:1;stroke-linecap:butt;stroke-linejoin:miter;stroke:rgb(70.196078%,80.392157%,89.019608%);stroke-opacity:1;stroke-miterlimit:10;\" d=\"M 130 20 C 127.789062 76.847656 99.820312 116.507812 43.894531 125.960938 \"/>\n",
       "<path style=\" stroke:none;fill-rule:nonzero;fill:rgb(70.196078%,80.392157%,89.019608%);fill-opacity:1;\" d=\"M 29.828125 128.339844 L 43.121094 121.390625 L 44.667969 130.53125 L 29.828125 128.339844 \"/>\n",
       "<path style=\"fill-rule:nonzero;fill:rgb(98.431373%,70.588235%,68.235294%);fill-opacity:1;stroke-width:1;stroke-linecap:butt;stroke-linejoin:miter;stroke:rgb(0%,0%,0%);stroke-opacity:1;stroke-miterlimit:10;\" d=\"M 140 20 C 140 25.523438 135.523438 30 130 30 C 124.476562 30 120 25.523438 120 20 C 120 14.476562 124.476562 10 130 10 C 135.523438 10 140 14.476562 140 20 \"/>\n",
       "<path style=\"fill-rule:nonzero;fill:rgb(98.431373%,70.588235%,68.235294%);fill-opacity:1;stroke-width:1;stroke-linecap:butt;stroke-linejoin:miter;stroke:rgb(0%,0%,0%);stroke-opacity:1;stroke-miterlimit:10;\" d=\"M 30 130 C 30 135.523438 25.523438 140 20 140 C 14.476562 140 10 135.523438 10 130 C 10 124.476562 14.476562 120 20 120 C 25.523438 120 30 124.476562 30 130 \"/>\n",
       "<g style=\"fill:rgb(0%,0%,0%);fill-opacity:1;\">\n",
       "  <use xlink:href=\"#glyph0-1\" x=\"126.851562\" y=\"26.484375\"/>\n",
       "</g>\n",
       "<g style=\"fill:rgb(0%,0%,0%);fill-opacity:1;\">\n",
       "  <use xlink:href=\"#glyph0-2\" x=\"16.1875\" y=\"136.503906\"/>\n",
       "</g>\n",
       "</g>\n",
       "</svg>\n"
      ],
      "text/plain": [
       "<igraph.drawing.Plot at 0x106ac7790>"
      ]
     },
     "execution_count": 7,
     "metadata": {},
     "output_type": "execute_result"
    }
   ],
   "source": [
    "# Load packages\n",
    "from igraph import *\n",
    "import time\n",
    "import pandas as pd\n",
    "import numpy as np\n",
    "\n",
    "# Create simple two-node network\n",
    "g = pd.DataFrame({'source': [1, 0], 'target': [0, 1]})\n",
    "\n",
    "# Create igraph representation and plot\n",
    "p_style = {\"bbox\": (150, 150), \"vertex_color\": \"#FBB4AE\", \"edge_color\": \"#B3CDE3\"}\n",
    "G = Graph(directed = True)\n",
    "G.add_vertices(g['source'])\n",
    "G.add_edges(zip(g['source'],g['target']))\n",
    "plot(G, layout=G.layout(\"kk\"), vertex_label = G.vs[\"name\"], **p_style)"
   ]
  },
  {
   "cell_type": "markdown",
   "metadata": {},
   "source": [
    "## Monte Carlo Approach\n",
    "\n",
    "The following function computes the infection probabilities at time `t` for all nodes via Monte Carlo simulation. In each of `mc` iterations we first draw the initially infected nodes according to their initial infection probabilities stored in the two-column `I0` dataframe. We then simulate the spread dynamics for `t` time periods by first drawing each edge with probability `beta` and then infecting `target` nodes if the `source` node of the remaining edges are infected. The `infected` dictionary at the end of a single MC simulation indicates whether or not a given node is infected. These are then added to a running count across all MC simulations in the `total_infected_count` dictionary, which, after dividing by `mc`, represent the infection probability of each node. The function returns these estimates as a two column dataframe."
   ]
  },
  {
   "cell_type": "code",
   "execution_count": 8,
   "metadata": {},
   "outputs": [],
   "source": [
    "def SI_MC(g, I0, beta, t, mc = 10000):  \n",
    "\n",
    "    # Get id and initial infection probabilities for each node\n",
    "    start, nodes, init_probs = time.time(), I0['node'].tolist(), I0['prob'].tolist()\n",
    "\n",
    "    # Dic to store total times each node is infected at t across all MC simulations\n",
    "    total_infected_count = dict.fromkeys(nodes, 0)\n",
    "    \n",
    "    # Perform Monte Carlo simulations\n",
    "    for _ in range(mc):\n",
    "\n",
    "        # Randomly draw initially infected nodes for this MC iteration\n",
    "        success  = np.random.uniform(0,1,len(init_probs)) < init_probs\n",
    "        infected = dict.fromkeys(nodes,0)\n",
    "        infected.update(dict.fromkeys(np.extract(success, nodes), 1))\n",
    "        \n",
    "        # Compute spread dynamics over time\n",
    "        for _ in range(t):\n",
    "\n",
    "            # Get transmitting edges \n",
    "            tmp = g.loc[np.random.uniform(0,1,g.shape[0]) < beta]\n",
    "            \n",
    "            # Set node status dictionary to update\n",
    "            new_infected = infected.copy()\n",
    "\n",
    "            # Go through each edge\n",
    "            for f1, f2 in zip(tmp['source'],tmp['target']):\n",
    "\n",
    "                # Send an infection if infected\n",
    "                if infected[f1]: new_infected[f2] = 1\n",
    "                    \n",
    "            # Update the infected dictionary\n",
    "            infected = new_infected.copy()\n",
    "\n",
    "        # Add to running count across MC simulations\n",
    "        for node in total_infected_count.keys():\n",
    "            total_infected_count[node] += infected[node]\n",
    "\n",
    "    # Compute resulting probs by dividing by number of MC iterations\n",
    "    I = {k: v / mc for k, v in total_infected_count.items()}\n",
    "\n",
    "    # Save results in dataframe\n",
    "    estimates = pd.DataFrame(I.items(), columns = ['node', 'I(t)_mc'])\n",
    "    print(\"MC Runtime:    \" + str(round(time.time() - start,2)) + \" seconds\")\n",
    "    \n",
    "    return(estimates.round({'I(t)_mc': 2}))"
   ]
  },
  {
   "cell_type": "markdown",
   "metadata": {},
   "source": [
    "Running the Monte Carlo simulation on our simple 2-node network for $t=4$ periods with $\\beta = 0.2$ and initial probabilities of $I_0(0)=0.4$ and $I_1(0)=0$ produces estimates of $I_0(4)=0.4$ and $I_1(4)=0.24$. In this extremely simple case we can confirm these values to be true. Given the disease only arises in the system with probability 0.4, which can only happen at node 0, we know trivially that $I_0(4)$ must be $0.4$. And if node 0 is initially infected, then it has four chances to infect node 1, and therefore does not infect node 1 with probability $(1-0.2)^4$. This implies that node 1 is infected with probability $1-[0.6+0.4\\times(1-0.2)^4]=0.24$."
   ]
  },
  {
   "cell_type": "code",
   "execution_count": 9,
   "metadata": {},
   "outputs": [
    {
     "name": "stdout",
     "output_type": "stream",
     "text": [
      "MC Runtime:    16.81 seconds\n"
     ]
    },
    {
     "data": {
      "text/html": [
       "<style  type=\"text/css\" >\n",
       "</style><table id=\"T_ce0a65b6_6699_11eb_8421_a683e7ddf086\" ><thead>    <tr>        <th class=\"col_heading level0 col0\" >node</th>        <th class=\"col_heading level0 col1\" >I(t)_mc</th>    </tr></thead><tbody>\n",
       "                <tr>\n",
       "                                <td id=\"T_ce0a65b6_6699_11eb_8421_a683e7ddf086row0_col0\" class=\"data row0 col0\" >0</td>\n",
       "                        <td id=\"T_ce0a65b6_6699_11eb_8421_a683e7ddf086row0_col1\" class=\"data row0 col1\" >0.4</td>\n",
       "            </tr>\n",
       "            <tr>\n",
       "                                <td id=\"T_ce0a65b6_6699_11eb_8421_a683e7ddf086row1_col0\" class=\"data row1 col0\" >1</td>\n",
       "                        <td id=\"T_ce0a65b6_6699_11eb_8421_a683e7ddf086row1_col1\" class=\"data row1 col1\" >0.24</td>\n",
       "            </tr>\n",
       "    </tbody></table>"
      ],
      "text/plain": [
       "<pandas.io.formats.style.Styler at 0x11012ed10>"
      ]
     },
     "execution_count": 9,
     "metadata": {},
     "output_type": "execute_result"
    }
   ],
   "source": [
    "# Set initial infection probabilities\n",
    "I0 = pd.DataFrame({'node': [0,1], 'prob': [0.4, 0]})\n",
    "\n",
    "# Set parameters\n",
    "beta, t = 0.2, 4\n",
    "\n",
    "# Run MC function\n",
    "results_mc = SI_MC(g, I0, beta, t)\n",
    "\n",
    "# Print results\n",
    "results_mc.style.hide_index()"
   ]
  },
  {
   "cell_type": "markdown",
   "metadata": {},
   "source": [
    "## Naive Analytical Approach\n",
    "\n",
    "The above Monte Carlo approach can be very slow for large networks, so we'd prefer to compute the infection probabilities analytically if possible. The most intuitive way to do this is to directly model the evolution of each node in a similar fashion to the classical (fully mixed) version of the SI model. The following expressions for the the probability of being susceptible, $S_i(t)$, and the probability of infected, $I_i(t)$, of node $i$ at time $t$ should look familiar to those experienced with traditional SI models.\n",
    "$$\n",
    "S_i(t+1) = S_i(t) \\prod_{k\\in N_i} \\left(1-\\beta I_k(t)\\right) \\;\\;\\;\\;\\;\\;\\;\\;\\;\\;\\;\\;\\;\\;\n",
    "I_i(t+1) = I_i(t) + S_i(t) \\left[1- \\prod_{k\\in N_i} \\left(1-\\beta  I_k(t)\\right)\\right]\n",
    "$$\n",
    "The probablity of $i$ being susceptible in one period is equal to the probability of it being susceptible in the previous period multiplied by the probability that it was not infected by any of its in-neighbors, denoted by the set $N_i$, in that period. Similar logic holds for the infection probability of $i$, which is equal to the infection probability in the previous period plus the probability of becoming newly infected. Given that $S_i(t) = 1 - I_i(t)$ in our simple SI setup, we actually only need one of the above equations. We'll use the latter in the function below.\n",
    "\n",
    "The `SI_naive()` function does the same job as `SI_mc()` but using the analytical equations above. After extracting the node id's and the initial infection probabilities from `I0` it iterates over the `t` time periods (note there is no `mc` loop). The `I` dictionary storing the infection probabilities at each period is updated using the equation for $I_i(t+1)$ above, after which a dataframe of estimates is returned in the same format."
   ]
  },
  {
   "cell_type": "code",
   "execution_count": 10,
   "metadata": {},
   "outputs": [],
   "source": [
    "def SI_naive(g, I0, beta, t):\n",
    "    \n",
    "    # Get node id's and initial infection probs for each node\n",
    "    start, nodes, init_probs = time.time(), I0['node'].tolist(), I0['prob'].tolist()\n",
    "\n",
    "    # Create storage dictionary for node-specific infection probabilities\n",
    "    I = dict(zip(nodes, init_probs))\n",
    "    \n",
    "    # Begin evolving the dynamic variables\n",
    "    for _ in range(t):\n",
    "\n",
    "        # Update marginal node probabilities\n",
    "        I_new = I.copy()\n",
    "        for node in nodes:\n",
    "\n",
    "            # Compute product term from in-neighbors of node\n",
    "            prod = 1\n",
    "            for k in g.loc[(g['target'] == node)]['source'].unique():\n",
    "                prod *= 1 - beta * I[k]\n",
    "\n",
    "            # Update new infection probability\n",
    "            I_new[node] = I[node] + (1 - I[node]) * (1 - prod)\n",
    "        \n",
    "        # Update infection storage to latest period\n",
    "        I = I_new.copy()\n",
    "        \n",
    "    # Save results in dataframe\n",
    "    estimates = pd.DataFrame(I.items(), columns = ['node', 'I(t)_naive'])\n",
    "    print(\"Naive Runtime: \" + str(round(time.time() - start, 2)) + \" seconds\")\n",
    "    \n",
    "    return(estimates.round({'I(t)_naive': 2}))"
   ]
  },
  {
   "cell_type": "markdown",
   "metadata": {},
   "source": [
    "Running `SI_naive` on our simple 2-node network and merging it with our earlier results shows that the analytical formulation yields higher infection probability estimates than the Monte Carlo procedure. This is exactly the echo chamber effect. Note also that the analytical approach is about three orders of magnitude faster than the Monte Carlo approach, which is our motivation for avoiding Monte Carlo in the first place."
   ]
  },
  {
   "cell_type": "code",
   "execution_count": 12,
   "metadata": {},
   "outputs": [
    {
     "name": "stdout",
     "output_type": "stream",
     "text": [
      "Naive Runtime: 0.01 seconds\n"
     ]
    },
    {
     "data": {
      "text/html": [
       "<style  type=\"text/css\" >\n",
       "</style><table id=\"T_52e81f3a_669a_11eb_8421_a683e7ddf086\" ><thead>    <tr>        <th class=\"col_heading level0 col0\" >node</th>        <th class=\"col_heading level0 col1\" >I(t)_mc</th>        <th class=\"col_heading level0 col2\" >I(t)_naive</th>    </tr></thead><tbody>\n",
       "                <tr>\n",
       "                                <td id=\"T_52e81f3a_669a_11eb_8421_a683e7ddf086row0_col0\" class=\"data row0 col0\" >0</td>\n",
       "                        <td id=\"T_52e81f3a_669a_11eb_8421_a683e7ddf086row0_col1\" class=\"data row0 col1\" >0.4</td>\n",
       "                        <td id=\"T_52e81f3a_669a_11eb_8421_a683e7ddf086row0_col2\" class=\"data row0 col2\" >0.45</td>\n",
       "            </tr>\n",
       "            <tr>\n",
       "                                <td id=\"T_52e81f3a_669a_11eb_8421_a683e7ddf086row1_col0\" class=\"data row1 col0\" >1</td>\n",
       "                        <td id=\"T_52e81f3a_669a_11eb_8421_a683e7ddf086row1_col1\" class=\"data row1 col1\" >0.24</td>\n",
       "                        <td id=\"T_52e81f3a_669a_11eb_8421_a683e7ddf086row1_col2\" class=\"data row1 col2\" >0.29</td>\n",
       "            </tr>\n",
       "    </tbody></table>"
      ],
      "text/plain": [
       "<pandas.io.formats.style.Styler at 0x11150ba10>"
      ]
     },
     "execution_count": 12,
     "metadata": {},
     "output_type": "execute_result"
    }
   ],
   "source": [
    "# Run naive analytical approximation\n",
    "results_naive = SI_naive(g, I0, beta, t)\n",
    "\n",
    "# Print results\n",
    "results_mc.merge(results_naive, on = 'node').style.hide_index()"
   ]
  },
  {
   "cell_type": "markdown",
   "metadata": {},
   "source": [
    "## The Echo Chamber Effect\n",
    "\n",
    "The naive approach allows infection to pass back-and-forth between the two nodes, so that once node 1 \"receives\" some infection probability, it passes it back to node 0, which further amplifies the infection probability of node 0, and so on in a self-enforcing \"echo chamber\". But we know this must be wrong because infection can only arise in the system at node 0, so any infection received from its neighbors must have originated with it. To be more formal, in our simple two-node example the equations above reduce to the following:\n",
    "\n",
    "$$\n",
    "\\begin{align}\n",
    "    I_0(t+1) - I_0(t) &= \\beta S_0(t)I_1(t)\\\\\n",
    "    I_1(t+1) - I_1(t) &= \\beta S_1(t)I_0(t)\n",
    "\\end{align}\n",
    "$$\n",
    "\n",
    "which imply that the infection probability will continue to grow until $I_i(t) = 1$ for at least one node. In other words, the equations guarantee that the nodes will eventually becomes infectious, even though with probability $0.6$ there is no infection in the system at all.\n",
    "\n",
    "This phenomenon surprised me a lot when I first encountered it, because the equations seem so intuitive and in line with how we model traditional SI models. So what is wrong with them? The key (but subtle) issue is that they do not account for correlations between the states of adjacent nodes, and therefore do not recognize that node 1 cannot be infected without node 0 being infected. In the above, the state of adjacent nodes is only accounted for via the infection probabilities of those neigboring nodes (in the $\\prod_{k\\in N_i} \\left(1-\\beta  I_k(t)\\right)$ term). But often the infection probability of a node is *conditional on the state* of a neighboring node, not just on its infection probability. So we need to keep track of the joint distribution of the nodes across states.\n",
    "\n",
    "In our case, this means explicitly modeling the joint probabilities of the set of four possible states of the network $\\{(I, I), (S, S), (I, S), (S, I)\\}$. To begin, we know $P(S,I) = 0$ because it's impossible for node 1 to be infected without node 0 being infected. Similarly, we know $P(S,S)=0.6$ because node 0 is susceptible with probability 0.6 and in that case cannot infect node 1. For the outcome $(I,S)$ we know that node 0 must initially be infected and that it must not pass on the infection to node 1 after $t=4$ attempts, therefore $P(I,S)=0.4\\times(1-0.2)^4=0.16$. Finally, the probability that both are infected after 4 periods is $P(I,I) = 0.4\\times(1-0.41) = 0.24$. We can then calculate the required marginal probabilities as follows\n",
    "\n",
    "$$\n",
    "\\begin{align}\n",
    "    I_0(4) = P(I,S) + P(I,I) &= 0.4\\\\\n",
    "    I_1(4) = P(S,I) + P(I,I) &= 0.24\n",
    "\\end{align}\n",
    "$$\n",
    "\n",
    "which is exactly what the Monte Carlo approach above yields. To perform a similar calculation for a 3-node network requires $2^3=8$ joint probabilities, and a four-node network requires $2^4=16$ etc., which quickly gets out of hand. For example, on a smallish network with 300 nodes, there are $2\\times10^{91}$ conditional probabilities, which is greater than the number of atoms in the universe. Fortunately, there is a more convenient way around this."
   ]
  },
  {
   "cell_type": "markdown",
   "metadata": {},
   "source": [
    "## Dynamic Message Passing\n",
    "\n",
    "Dynamic Message Passing (DMP) was developed in the context of epidemic spreading by [Karrer and Newman (2010)](https://arxiv.org/abs/1003.5673) for continuous SIR models, which began a fairly active literature. For example, [Lokhov et al. (2014)](https://arxiv.org/abs/1303.5315) used DMP to infer the origin of a given epidemic in a discrete time setting, [Lokhov et al. (2015)](https://arxiv.org/abs/1407.1255) expanded their earlier work to more general unidirectional models with an arbitrary number of states, and [Shrestha et al. (2015)](https://arxiv.org/abs/1505.02192) generalized DMP to recurrent state models like SIS (they also seemed to coin the \"echo chamber\" term). [Wang et al. (2017)](https://arxiv.org/abs/1612.04216) provide a good summary and history of this literature within the broader context of theoretical approaches to epidemic spreading. In this post, we'll follow most closely the notation of [Koher et al. (2018)](https://arxiv.org/abs/1811.05809), although the general principles are the same for all the papers above.\n",
    "\n",
    "The key idea is to move from a node-centric to an edge-centric focus. By keeping track of the movement of infection across edges, we can disallow an edge to transmit infection two ways and therefore help prevent the echo chamber effect. This is done by defining three new edge-specific \"message\" variables:\n",
    "\n",
    "1. $\\theta_{k\\rightarrow i}(t)$ is the probability that the disease has not passed from $k$ to $i$ up to time $t$\n",
    "2. $I_{k\\rightarrow i}(t)$ is the probability that $k$ is infected at time $t$ as a result of having received the disease from a node other than $i$, and has not yet passed the infection to $i$\n",
    "3. $S_{k\\rightarrow i}(t)$ is the probability that $k$ has not been infected by any of its neighbors that are not $i$ up to time $t$\n",
    "\n",
    "The definitions of the above variables take some time to chew over - they were not very intuitive to me when I first came across them. Another way to think about them is to imagine $i$ being in a \"cavity\" state, where it can receive but not pass on infection. In fact, DMP is often referred to as the \"cavity method\" for this reason. In this case, \n",
    "$S_{k\\rightarrow i}(t)$ is the probability that $k$ is susceptible at time $t$ provided $i$ is in the cavity state. Because $k$ is not affected by the state of $i$, it stays susceptible if it doesn't contract the disease from any of its remaining neighbors. Similarly, $I_{k\\rightarrow i}(t)$ is the probability that $k$ is infected given that $i$ is in the cavity state and was therefore infected by a neighbor other than $i$.\n",
    "\n",
    "The probability that $i$ is susceptible at time $t$ can therefore be expressed as the probability that it was initially susceptible, $z_i = 1-I_i(0)$, multiplied by the probability that no adjacent nodes transmitted the infection up to time $t$.\n",
    "\n",
    "$$\n",
    "S_i(t) = z_i \\prod_{k\\in N_i}\\theta_{k\\rightarrow i}(t)\n",
    "$$\n",
    "\n",
    "Now we just need to describe the evolution of the three message variables. Beginning at $\\theta_{k\\rightarrow i}(0)=1$, the probability that the disease has not passed from $k$ to $i$ falls each period by the probability that a transmission does occur across that edge, which is equal to $\\beta$ multiplied by the probability that $k$ is infected and has not earlier transmitted the disease to $i$:\n",
    "\n",
    "$$\n",
    "\\theta_{k\\rightarrow i}(t+1) = \\theta_{k\\rightarrow i}(t) -\\beta I_{k\\rightarrow i} (t)\n",
    "$$\n",
    "\n",
    "Beginning at $I_{k\\rightarrow i}(0) = I_k(0)$, the probability that $k$ is infected and has not passed the disease to $i$ is equal to that same probability in the previous period multiplied by the probability that it did not transmit, plus the probability that it is newly infected from a non-$i$ node. This latter is equal to the reduction in $S_{k\\rightarrow i}$ because, in the case of $i$ being in the cavity state, it is equal to the reduction in the probability that $k$ has not been infected by any of its non-$i$ neighbors\n",
    "\n",
    "$$\n",
    "I_{k\\rightarrow i} (t+1) = (1-\\beta)I_{k\\rightarrow i} (t) + (S_{k\\rightarrow i}(t)-S_{k\\rightarrow i}(t+1))\n",
    "$$\n",
    "\n",
    "Finally, the following expression is very similar to the above for $S_{i}$ but the product term excludes the $\\theta_{i\\rightarrow k}$ term because it assumes that $i$ is in the cavity state. Since $k$ is not affected by the state of $i$, it stays susceptible if it doesn't contract the disease from any of its remaining incident neighbors. This can also be viewed as a conditional probability where the joint probability $S_k$ is divided by the marginal probability $\\theta_{i\\rightarrow k}$.\n",
    "\n",
    "\n",
    "$$\n",
    "S_{k\\rightarrow i}(t+1) = z_k \\prod_{j\\in N_k\\setminus i} \\theta_{j\\rightarrow k}(t+1)\n",
    "$$\n",
    "\n",
    "The combined effect of the above equations is that when computing the infection rate for a given node, we deliberately neglect the events where its neighbors received the infection from that node and then immediately pass it back. So the rate at which $k$ infects $i$ is proportional to the probability that $k$ was infected by a non-$i$ neighbor, which is why we only include the contribution that comes from neighbors other than $i$. \n",
    "\n",
    "The `SI_DMP()` function implements the above. The logic is similar to `SI_naive()` with the added complication of keeping track of the additional $3E$ message variables. The messages are stored in a dataframe `d` with a row per directed edge, which is then updated each period. Compared to `SI_naive()` there is an additional loop over each edge to compute the $S_{k\\rightarrow i}$ values."
   ]
  },
  {
   "cell_type": "code",
   "execution_count": 13,
   "metadata": {},
   "outputs": [],
   "source": [
    "def SI_DMP(g,I0,beta,t): \n",
    "    \n",
    "    # Get id's and initial infection probs for each node\n",
    "    start, nodes, init_probs = time.time(), I0['node'].tolist(), I0['prob'].tolist()\n",
    "\n",
    "    # Create storage dictionaries for node-specific S, I and initial probabilities\n",
    "    z, I = dict(zip(nodes,[1 - x for x in init_probs])), dict(zip(nodes,init_probs))\n",
    "    S = z.copy()\n",
    "\n",
    "    # Create columns for the edge-specific (message) variables\n",
    "    d, I_msg, S_msg = g.copy().drop_duplicates(), [], []\n",
    "    for i, _ in zip(d['source'],d['target']):\n",
    "        I_msg.append(I[i]); S_msg.append(S[i])\n",
    "    d['I_msg'], d['S_msg'], d['theta'] = I_msg, S_msg, 1\n",
    "\n",
    "    # Begin evolving the dynamic variables\n",
    "    for _ in range(t):\n",
    "        \n",
    "        # New period messages\n",
    "        d_new = d.copy()\n",
    "        \n",
    "        # Update theta\n",
    "        d_new['theta'] -= beta * d.I_msg\n",
    "\n",
    "        # Update S_msg\n",
    "        S_msg = []\n",
    "        for k, i in zip(d['source'],d['target']):\n",
    "\n",
    "            # Get in-edges to node k excluding those originating at i\n",
    "            in_edges = d_new.copy()\n",
    "            in_edges = in_edges.loc[(in_edges['target'] == k) & (in_edges['source'] != i)]\n",
    "            S_msg.append(z[k] * in_edges['theta'].product())\n",
    "\n",
    "        d_new['S_msg'] = S_msg\n",
    "\n",
    "        # Update I message\n",
    "        d_new['I_msg'] = (1 - beta) * d['I_msg'] + (d['S_msg'] - d_new['S_msg'])\n",
    "\n",
    "        # Update marginal node probabilities\n",
    "        for node in nodes:\n",
    "\n",
    "            # Susceptible\n",
    "            tmp = d_new.copy()\n",
    "            tmp = tmp.loc[(tmp['target'] == node)]\n",
    "            S[node] = z[node] * tmp['theta'].product()\n",
    "\n",
    "            # Infected\n",
    "            I[node] = 1 - S[node]\n",
    "        \n",
    "        # Update dataframe to latest period\n",
    "        d = d_new.copy()\n",
    "        \n",
    "    # Save results in dataframe\n",
    "    estimates = pd.DataFrame(I.items(), columns = ['node', 'I(t)_dmp'])\n",
    "    print(\"DMP Runtime:   \" + str(round(time.time() - start, 2)) + \" seconds\")\n",
    "    \n",
    "    return(estimates.round({'I(t)_dmp': 2}))"
   ]
  },
  {
   "cell_type": "markdown",
   "metadata": {},
   "source": [
    "We can now repeat our experiment on the simple two-node network above with the DMP method. DMP exactly replicates the correct estimates from the Monte Carlo code at a significant saving in computation time."
   ]
  },
  {
   "cell_type": "code",
   "execution_count": 15,
   "metadata": {},
   "outputs": [
    {
     "name": "stdout",
     "output_type": "stream",
     "text": [
      "DMP Runtime:   0.17 seconds\n"
     ]
    },
    {
     "data": {
      "text/html": [
       "<style  type=\"text/css\" >\n",
       "</style><table id=\"T_99328838_669d_11eb_8421_a683e7ddf086\" ><thead>    <tr>        <th class=\"col_heading level0 col0\" >node</th>        <th class=\"col_heading level0 col1\" >I(t)_mc</th>        <th class=\"col_heading level0 col2\" >I(t)_naive</th>        <th class=\"col_heading level0 col3\" >I(t)_dmp</th>    </tr></thead><tbody>\n",
       "                <tr>\n",
       "                                <td id=\"T_99328838_669d_11eb_8421_a683e7ddf086row0_col0\" class=\"data row0 col0\" >0</td>\n",
       "                        <td id=\"T_99328838_669d_11eb_8421_a683e7ddf086row0_col1\" class=\"data row0 col1\" >0.4</td>\n",
       "                        <td id=\"T_99328838_669d_11eb_8421_a683e7ddf086row0_col2\" class=\"data row0 col2\" >0.45</td>\n",
       "                        <td id=\"T_99328838_669d_11eb_8421_a683e7ddf086row0_col3\" class=\"data row0 col3\" >0.4</td>\n",
       "            </tr>\n",
       "            <tr>\n",
       "                                <td id=\"T_99328838_669d_11eb_8421_a683e7ddf086row1_col0\" class=\"data row1 col0\" >1</td>\n",
       "                        <td id=\"T_99328838_669d_11eb_8421_a683e7ddf086row1_col1\" class=\"data row1 col1\" >0.24</td>\n",
       "                        <td id=\"T_99328838_669d_11eb_8421_a683e7ddf086row1_col2\" class=\"data row1 col2\" >0.29</td>\n",
       "                        <td id=\"T_99328838_669d_11eb_8421_a683e7ddf086row1_col3\" class=\"data row1 col3\" >0.24</td>\n",
       "            </tr>\n",
       "    </tbody></table>"
      ],
      "text/plain": [
       "<pandas.io.formats.style.Styler at 0x110edcf10>"
      ]
     },
     "execution_count": 15,
     "metadata": {},
     "output_type": "execute_result"
    }
   ],
   "source": [
    "# Run naive analytical approximation\n",
    "results_dmp = SI_DMP(g, I0, beta, t)\n",
    "\n",
    "# Print results\n",
    "results_mc.merge(results_naive,on='node').merge(results_dmp,on='node').style.hide_index()"
   ]
  },
  {
   "cell_type": "markdown",
   "metadata": {},
   "source": [
    "## Experiments with Alternative Network Types\n",
    "\n",
    "We now take a closer look at how DMP performs across five different networks generated below. The first three are simple 3-node networks with edges chosen to carefully illustrate when DMP works well and not so well. The fourth is a larger tree network to demonstrate that DMP is exact on trees. Finally we'll run our methods on a larger \"more realistic\" network with plenty of loops."
   ]
  },
  {
   "cell_type": "code",
   "execution_count": 16,
   "metadata": {},
   "outputs": [],
   "source": [
    "# Create three 3-node networks to help intuition\n",
    "g1 = pd.DataFrame({'source': [1, 0, 1],    'target': [0, 1, 2]})\n",
    "g2 = pd.DataFrame({'source': [1, 0, 0, 1], 'target': [0, 1, 2, 2]})\n",
    "g3 = pd.DataFrame({'source': [1, 0, 2, 1], 'target': [0, 1, 0, 2]})\n",
    "\n",
    "# Create a tree network (using igraph method then transforming to dataframe)\n",
    "G4 = Graph.Tree(10, 2)\n",
    "g4 = pd.DataFrame({'source': [x for e in G4.es for x in (e.source, e.target)],\n",
    "                   'target': [x for e in G4.es for x in (e.target, e.source)]})\n",
    "\n",
    "# Create larger \"loopy\" network\n",
    "G5 = Graph.Barabasi(n = 40, m = 4, directed = True)\n",
    "g5 = pd.DataFrame({'source': [e.source for e in G5.es],\n",
    "                   'target': [e.target for e in G5.es]})"
   ]
  },
  {
   "cell_type": "markdown",
   "metadata": {},
   "source": [
    "Graph 1  | Graph 2 | Graph 3 | Graph 4 | Graph 5\n",
    ":-------:|:-------:|:-------:|:-------:|:-------:\n",
    "![](graph1.png)| ![](graph2.png) | ![](graph3.png) | ![](graph4.png) | ![](graph5.png)\n",
    "\n",
    "Sticking with an initial infection probability of 0.4 for node 0, the code below estimates the resulting infection probabilites for the 3-node network of Graph 1 above. This time, and for the rest of this post, we'll extend out the number of periods to $t=20$ to let the echo chamber really take effect. We see that the naive approach suffers again from the echo chamber effect resulting in overestimated infection probabilities. Node 1, after being infected by node 0, \"re-infects\" node 0 and so on, which in turn also raises the infection probability of node 2. The DMP approach, on the other hand, removes this mutual reinforcement between nodes 0 and 1 by only allowing node 1 to reinfect node 0 with disease it has contracted from a \"non-0\" in-neighbor (of which there are none in this case). So DMP achieves the exact solutions. The results also again confirm the far superior run time of the naive analytical approach compared to the Monte Carlo approach, which is hardly sacrificed when moving to the more accurate DMP approach."
   ]
  },
  {
   "cell_type": "code",
   "execution_count": 19,
   "metadata": {},
   "outputs": [
    {
     "name": "stdout",
     "output_type": "stream",
     "text": [
      "MC Runtime:    83.84 seconds\n",
      "Naive Runtime: 0.05 seconds\n",
      "DMP Runtime:   0.25 seconds\n"
     ]
    },
    {
     "data": {
      "text/html": [
       "<style  type=\"text/css\" >\n",
       "</style><table id=\"T_e06048de_669e_11eb_8421_a683e7ddf086\" ><thead>    <tr>        <th class=\"col_heading level0 col0\" >node</th>        <th class=\"col_heading level0 col1\" >I(t)_mc</th>        <th class=\"col_heading level0 col2\" >I(t)_naive</th>        <th class=\"col_heading level0 col3\" >I(t)_dmp</th>    </tr></thead><tbody>\n",
       "                <tr>\n",
       "                                <td id=\"T_e06048de_669e_11eb_8421_a683e7ddf086row0_col0\" class=\"data row0 col0\" >0</td>\n",
       "                        <td id=\"T_e06048de_669e_11eb_8421_a683e7ddf086row0_col1\" class=\"data row0 col1\" >0.4</td>\n",
       "                        <td id=\"T_e06048de_669e_11eb_8421_a683e7ddf086row0_col2\" class=\"data row0 col2\" >0.95</td>\n",
       "                        <td id=\"T_e06048de_669e_11eb_8421_a683e7ddf086row0_col3\" class=\"data row0 col3\" >0.4</td>\n",
       "            </tr>\n",
       "            <tr>\n",
       "                                <td id=\"T_e06048de_669e_11eb_8421_a683e7ddf086row1_col0\" class=\"data row1 col0\" >1</td>\n",
       "                        <td id=\"T_e06048de_669e_11eb_8421_a683e7ddf086row1_col1\" class=\"data row1 col1\" >0.4</td>\n",
       "                        <td id=\"T_e06048de_669e_11eb_8421_a683e7ddf086row1_col2\" class=\"data row1 col2\" >0.94</td>\n",
       "                        <td id=\"T_e06048de_669e_11eb_8421_a683e7ddf086row1_col3\" class=\"data row1 col3\" >0.4</td>\n",
       "            </tr>\n",
       "            <tr>\n",
       "                                <td id=\"T_e06048de_669e_11eb_8421_a683e7ddf086row2_col0\" class=\"data row2 col0\" >2</td>\n",
       "                        <td id=\"T_e06048de_669e_11eb_8421_a683e7ddf086row2_col1\" class=\"data row2 col1\" >0.37</td>\n",
       "                        <td id=\"T_e06048de_669e_11eb_8421_a683e7ddf086row2_col2\" class=\"data row2 col2\" >0.91</td>\n",
       "                        <td id=\"T_e06048de_669e_11eb_8421_a683e7ddf086row2_col3\" class=\"data row2 col3\" >0.37</td>\n",
       "            </tr>\n",
       "    </tbody></table>"
      ],
      "text/plain": [
       "<pandas.io.formats.style.Styler at 0x104089650>"
      ]
     },
     "execution_count": 19,
     "metadata": {},
     "output_type": "execute_result"
    }
   ],
   "source": [
    "# Set initial infection probabilities\n",
    "t, I0 = 20, pd.DataFrame({'node': [0, 1, 2], 'prob': [0.4, 0, 0]})\n",
    "\n",
    "# Run SI functions\n",
    "results_mc    = SI_MC(g1, I0, beta, t)\n",
    "results_naive = SI_naive(g1, I0, beta, t)\n",
    "results_dmp   = SI_DMP(g1, I0, beta, t)\n",
    "\n",
    "# Print results\n",
    "results_mc.merge(results_naive,on='node').merge(results_dmp,on='node').style.hide_index()"
   ]
  },
  {
   "cell_type": "markdown",
   "metadata": {},
   "source": [
    "Graph 2 adds an additional edge from node 0 to 2. Although DMP gives the correct infection probabilities for nodes 0 and 1, it does not recognize that infection received by node 2 from nodes 0 and 1 originated in the same place (node 0). So it effectively treats the infection from nodes 0 and 1 as independent and therefore overestimates the infection probability for node 2 in a kind of \"two-step echo chamber\". Note, however, that the overestimation is always lower than the naive approach."
   ]
  },
  {
   "cell_type": "code",
   "execution_count": 20,
   "metadata": {},
   "outputs": [
    {
     "name": "stdout",
     "output_type": "stream",
     "text": [
      "MC Runtime:    116.12 seconds\n",
      "Naive Runtime: 0.06 seconds\n",
      "DMP Runtime:   0.3 seconds\n"
     ]
    },
    {
     "data": {
      "text/html": [
       "<style  type=\"text/css\" >\n",
       "</style><table id=\"T_2d9dee12_669f_11eb_8421_a683e7ddf086\" ><thead>    <tr>        <th class=\"col_heading level0 col0\" >node</th>        <th class=\"col_heading level0 col1\" >I(t)_mc</th>        <th class=\"col_heading level0 col2\" >I(t)_naive</th>        <th class=\"col_heading level0 col3\" >I(t)_dmp</th>    </tr></thead><tbody>\n",
       "                <tr>\n",
       "                                <td id=\"T_2d9dee12_669f_11eb_8421_a683e7ddf086row0_col0\" class=\"data row0 col0\" >0</td>\n",
       "                        <td id=\"T_2d9dee12_669f_11eb_8421_a683e7ddf086row0_col1\" class=\"data row0 col1\" >0.4</td>\n",
       "                        <td id=\"T_2d9dee12_669f_11eb_8421_a683e7ddf086row0_col2\" class=\"data row0 col2\" >0.95</td>\n",
       "                        <td id=\"T_2d9dee12_669f_11eb_8421_a683e7ddf086row0_col3\" class=\"data row0 col3\" >0.4</td>\n",
       "            </tr>\n",
       "            <tr>\n",
       "                                <td id=\"T_2d9dee12_669f_11eb_8421_a683e7ddf086row1_col0\" class=\"data row1 col0\" >1</td>\n",
       "                        <td id=\"T_2d9dee12_669f_11eb_8421_a683e7ddf086row1_col1\" class=\"data row1 col1\" >0.4</td>\n",
       "                        <td id=\"T_2d9dee12_669f_11eb_8421_a683e7ddf086row1_col2\" class=\"data row1 col2\" >0.94</td>\n",
       "                        <td id=\"T_2d9dee12_669f_11eb_8421_a683e7ddf086row1_col3\" class=\"data row1 col3\" >0.4</td>\n",
       "            </tr>\n",
       "            <tr>\n",
       "                                <td id=\"T_2d9dee12_669f_11eb_8421_a683e7ddf086row2_col0\" class=\"data row2 col0\" >2</td>\n",
       "                        <td id=\"T_2d9dee12_669f_11eb_8421_a683e7ddf086row2_col1\" class=\"data row2 col1\" >0.4</td>\n",
       "                        <td id=\"T_2d9dee12_669f_11eb_8421_a683e7ddf086row2_col2\" class=\"data row2 col2\" >0.99</td>\n",
       "                        <td id=\"T_2d9dee12_669f_11eb_8421_a683e7ddf086row2_col3\" class=\"data row2 col3\" >0.62</td>\n",
       "            </tr>\n",
       "    </tbody></table>"
      ],
      "text/plain": [
       "<pandas.io.formats.style.Styler at 0x1112253d0>"
      ]
     },
     "execution_count": 20,
     "metadata": {},
     "output_type": "execute_result"
    }
   ],
   "source": [
    "# Run SI functions\n",
    "results_mc    = SI_MC(g2, I0, beta, t)\n",
    "results_naive = SI_naive(g2, I0, beta, t)\n",
    "results_dmp   = SI_DMP(g2, I0, beta, t)\n",
    "\n",
    "# Print results\n",
    "results_mc.merge(results_naive,on='node').merge(results_dmp,on='node').style.hide_index()"
   ]
  },
  {
   "cell_type": "markdown",
   "metadata": {},
   "source": [
    "Graph 3 is similar to Graph 2 except for the direction of the edge between 0 and 2. Because node 2 can only become infected via node 1, the DMP setup does not restrict the edge between 0 and 2, so 0 will receive infection from 2. Because any disease originated at 0, this means the infection probability for node 0 will be overestimated and continue to flow through the system.  This results in overstimated infection probabilities for all nodes."
   ]
  },
  {
   "cell_type": "code",
   "execution_count": 21,
   "metadata": {},
   "outputs": [
    {
     "name": "stdout",
     "output_type": "stream",
     "text": [
      "MC Runtime:    105.64 seconds\n",
      "Naive Runtime: 0.05 seconds\n",
      "DMP Runtime:   0.25 seconds\n"
     ]
    },
    {
     "data": {
      "text/html": [
       "<style  type=\"text/css\" >\n",
       "</style><table id=\"T_e3ffb92e_669f_11eb_8421_a683e7ddf086\" ><thead>    <tr>        <th class=\"col_heading level0 col0\" >node</th>        <th class=\"col_heading level0 col1\" >I(t)_mc</th>        <th class=\"col_heading level0 col2\" >I(t)_naive</th>        <th class=\"col_heading level0 col3\" >I(t)_dmp</th>    </tr></thead><tbody>\n",
       "                <tr>\n",
       "                                <td id=\"T_e3ffb92e_669f_11eb_8421_a683e7ddf086row0_col0\" class=\"data row0 col0\" >0</td>\n",
       "                        <td id=\"T_e3ffb92e_669f_11eb_8421_a683e7ddf086row0_col1\" class=\"data row0 col1\" >0.4</td>\n",
       "                        <td id=\"T_e3ffb92e_669f_11eb_8421_a683e7ddf086row0_col2\" class=\"data row0 col2\" >0.99</td>\n",
       "                        <td id=\"T_e3ffb92e_669f_11eb_8421_a683e7ddf086row0_col3\" class=\"data row0 col3\" >0.62</td>\n",
       "            </tr>\n",
       "            <tr>\n",
       "                                <td id=\"T_e3ffb92e_669f_11eb_8421_a683e7ddf086row1_col0\" class=\"data row1 col0\" >1</td>\n",
       "                        <td id=\"T_e3ffb92e_669f_11eb_8421_a683e7ddf086row1_col1\" class=\"data row1 col1\" >0.4</td>\n",
       "                        <td id=\"T_e3ffb92e_669f_11eb_8421_a683e7ddf086row1_col2\" class=\"data row1 col2\" >0.96</td>\n",
       "                        <td id=\"T_e3ffb92e_669f_11eb_8421_a683e7ddf086row1_col3\" class=\"data row1 col3\" >0.55</td>\n",
       "            </tr>\n",
       "            <tr>\n",
       "                                <td id=\"T_e3ffb92e_669f_11eb_8421_a683e7ddf086row2_col0\" class=\"data row2 col0\" >2</td>\n",
       "                        <td id=\"T_e3ffb92e_669f_11eb_8421_a683e7ddf086row2_col1\" class=\"data row2 col1\" >0.37</td>\n",
       "                        <td id=\"T_e3ffb92e_669f_11eb_8421_a683e7ddf086row2_col2\" class=\"data row2 col2\" >0.92</td>\n",
       "                        <td id=\"T_e3ffb92e_669f_11eb_8421_a683e7ddf086row2_col3\" class=\"data row2 col3\" >0.47</td>\n",
       "            </tr>\n",
       "    </tbody></table>"
      ],
      "text/plain": [
       "<pandas.io.formats.style.Styler at 0x11150b950>"
      ]
     },
     "execution_count": 21,
     "metadata": {},
     "output_type": "execute_result"
    }
   ],
   "source": [
    "# Run SI functions\n",
    "results_mc    = SI_MC(g3, I0, beta, t)\n",
    "results_naive = SI_naive(g3, I0, beta, t)\n",
    "results_dmp   = SI_DMP(g3, I0, beta, t)\n",
    "\n",
    "# Print results\n",
    "results_mc.merge(results_naive,on='node').merge(results_dmp,on='node').style.hide_index()"
   ]
  },
  {
   "cell_type": "markdown",
   "metadata": {},
   "source": [
    "The key difference between the three networks above is that Graph 1 is a tree network, while the other two have loops. DMP methods were originally derived for tree-like networks and therefore are exact in these cases. The following code run on Graph 4 (a tree network) confirms this point (allowing for some numerical error in the Monte Carlo results)."
   ]
  },
  {
   "cell_type": "code",
   "execution_count": 22,
   "metadata": {},
   "outputs": [
    {
     "name": "stdout",
     "output_type": "stream",
     "text": [
      "MC Runtime:    89.11 seconds\n",
      "Naive Runtime: 0.16 seconds\n",
      "DMP Runtime:   0.83 seconds\n"
     ]
    },
    {
     "data": {
      "text/html": [
       "<style  type=\"text/css\" >\n",
       "</style><table id=\"T_7d19e5c6_66a0_11eb_8421_a683e7ddf086\" ><thead>    <tr>        <th class=\"col_heading level0 col0\" >node</th>        <th class=\"col_heading level0 col1\" >I(t)_mc</th>        <th class=\"col_heading level0 col2\" >I(t)_naive</th>        <th class=\"col_heading level0 col3\" >I(t)_dmp</th>    </tr></thead><tbody>\n",
       "                <tr>\n",
       "                                <td id=\"T_7d19e5c6_66a0_11eb_8421_a683e7ddf086row0_col0\" class=\"data row0 col0\" >0</td>\n",
       "                        <td id=\"T_7d19e5c6_66a0_11eb_8421_a683e7ddf086row0_col1\" class=\"data row0 col1\" >0.4</td>\n",
       "                        <td id=\"T_7d19e5c6_66a0_11eb_8421_a683e7ddf086row0_col2\" class=\"data row0 col2\" >1</td>\n",
       "                        <td id=\"T_7d19e5c6_66a0_11eb_8421_a683e7ddf086row0_col3\" class=\"data row0 col3\" >0.4</td>\n",
       "            </tr>\n",
       "            <tr>\n",
       "                                <td id=\"T_7d19e5c6_66a0_11eb_8421_a683e7ddf086row1_col0\" class=\"data row1 col0\" >1</td>\n",
       "                        <td id=\"T_7d19e5c6_66a0_11eb_8421_a683e7ddf086row1_col1\" class=\"data row1 col1\" >0.4</td>\n",
       "                        <td id=\"T_7d19e5c6_66a0_11eb_8421_a683e7ddf086row1_col2\" class=\"data row1 col2\" >1</td>\n",
       "                        <td id=\"T_7d19e5c6_66a0_11eb_8421_a683e7ddf086row1_col3\" class=\"data row1 col3\" >0.4</td>\n",
       "            </tr>\n",
       "            <tr>\n",
       "                                <td id=\"T_7d19e5c6_66a0_11eb_8421_a683e7ddf086row2_col0\" class=\"data row2 col0\" >2</td>\n",
       "                        <td id=\"T_7d19e5c6_66a0_11eb_8421_a683e7ddf086row2_col1\" class=\"data row2 col1\" >0.4</td>\n",
       "                        <td id=\"T_7d19e5c6_66a0_11eb_8421_a683e7ddf086row2_col2\" class=\"data row2 col2\" >1</td>\n",
       "                        <td id=\"T_7d19e5c6_66a0_11eb_8421_a683e7ddf086row2_col3\" class=\"data row2 col3\" >0.4</td>\n",
       "            </tr>\n",
       "            <tr>\n",
       "                                <td id=\"T_7d19e5c6_66a0_11eb_8421_a683e7ddf086row3_col0\" class=\"data row3 col0\" >3</td>\n",
       "                        <td id=\"T_7d19e5c6_66a0_11eb_8421_a683e7ddf086row3_col1\" class=\"data row3 col1\" >0.38</td>\n",
       "                        <td id=\"T_7d19e5c6_66a0_11eb_8421_a683e7ddf086row3_col2\" class=\"data row3 col2\" >1</td>\n",
       "                        <td id=\"T_7d19e5c6_66a0_11eb_8421_a683e7ddf086row3_col3\" class=\"data row3 col3\" >0.37</td>\n",
       "            </tr>\n",
       "            <tr>\n",
       "                                <td id=\"T_7d19e5c6_66a0_11eb_8421_a683e7ddf086row4_col0\" class=\"data row4 col0\" >4</td>\n",
       "                        <td id=\"T_7d19e5c6_66a0_11eb_8421_a683e7ddf086row4_col1\" class=\"data row4 col1\" >0.38</td>\n",
       "                        <td id=\"T_7d19e5c6_66a0_11eb_8421_a683e7ddf086row4_col2\" class=\"data row4 col2\" >0.99</td>\n",
       "                        <td id=\"T_7d19e5c6_66a0_11eb_8421_a683e7ddf086row4_col3\" class=\"data row4 col3\" >0.37</td>\n",
       "            </tr>\n",
       "            <tr>\n",
       "                                <td id=\"T_7d19e5c6_66a0_11eb_8421_a683e7ddf086row5_col0\" class=\"data row5 col0\" >5</td>\n",
       "                        <td id=\"T_7d19e5c6_66a0_11eb_8421_a683e7ddf086row5_col1\" class=\"data row5 col1\" >0.38</td>\n",
       "                        <td id=\"T_7d19e5c6_66a0_11eb_8421_a683e7ddf086row5_col2\" class=\"data row5 col2\" >0.95</td>\n",
       "                        <td id=\"T_7d19e5c6_66a0_11eb_8421_a683e7ddf086row5_col3\" class=\"data row5 col3\" >0.37</td>\n",
       "            </tr>\n",
       "            <tr>\n",
       "                                <td id=\"T_7d19e5c6_66a0_11eb_8421_a683e7ddf086row6_col0\" class=\"data row6 col0\" >6</td>\n",
       "                        <td id=\"T_7d19e5c6_66a0_11eb_8421_a683e7ddf086row6_col1\" class=\"data row6 col1\" >0.38</td>\n",
       "                        <td id=\"T_7d19e5c6_66a0_11eb_8421_a683e7ddf086row6_col2\" class=\"data row6 col2\" >0.95</td>\n",
       "                        <td id=\"T_7d19e5c6_66a0_11eb_8421_a683e7ddf086row6_col3\" class=\"data row6 col3\" >0.37</td>\n",
       "            </tr>\n",
       "            <tr>\n",
       "                                <td id=\"T_7d19e5c6_66a0_11eb_8421_a683e7ddf086row7_col0\" class=\"data row7 col0\" >7</td>\n",
       "                        <td id=\"T_7d19e5c6_66a0_11eb_8421_a683e7ddf086row7_col1\" class=\"data row7 col1\" >0.32</td>\n",
       "                        <td id=\"T_7d19e5c6_66a0_11eb_8421_a683e7ddf086row7_col2\" class=\"data row7 col2\" >0.9</td>\n",
       "                        <td id=\"T_7d19e5c6_66a0_11eb_8421_a683e7ddf086row7_col3\" class=\"data row7 col3\" >0.32</td>\n",
       "            </tr>\n",
       "            <tr>\n",
       "                                <td id=\"T_7d19e5c6_66a0_11eb_8421_a683e7ddf086row8_col0\" class=\"data row8 col0\" >8</td>\n",
       "                        <td id=\"T_7d19e5c6_66a0_11eb_8421_a683e7ddf086row8_col1\" class=\"data row8 col1\" >0.32</td>\n",
       "                        <td id=\"T_7d19e5c6_66a0_11eb_8421_a683e7ddf086row8_col2\" class=\"data row8 col2\" >0.9</td>\n",
       "                        <td id=\"T_7d19e5c6_66a0_11eb_8421_a683e7ddf086row8_col3\" class=\"data row8 col3\" >0.32</td>\n",
       "            </tr>\n",
       "            <tr>\n",
       "                                <td id=\"T_7d19e5c6_66a0_11eb_8421_a683e7ddf086row9_col0\" class=\"data row9 col0\" >9</td>\n",
       "                        <td id=\"T_7d19e5c6_66a0_11eb_8421_a683e7ddf086row9_col1\" class=\"data row9 col1\" >0.32</td>\n",
       "                        <td id=\"T_7d19e5c6_66a0_11eb_8421_a683e7ddf086row9_col2\" class=\"data row9 col2\" >0.89</td>\n",
       "                        <td id=\"T_7d19e5c6_66a0_11eb_8421_a683e7ddf086row9_col3\" class=\"data row9 col3\" >0.32</td>\n",
       "            </tr>\n",
       "    </tbody></table>"
      ],
      "text/plain": [
       "<pandas.io.formats.style.Styler at 0x1115361d0>"
      ]
     },
     "execution_count": 22,
     "metadata": {},
     "output_type": "execute_result"
    }
   ],
   "source": [
    "# Create initial infection probabilities\n",
    "I0 = pd.DataFrame({'node': g4['source'].unique(), 'prob': 0})\n",
    "I0.loc[I0['node'].isin([0]), 'prob'] = 0.4\n",
    "\n",
    "# Run SI functions\n",
    "results_mc    = SI_MC(g4, I0, beta, t)\n",
    "results_naive = SI_naive(g4, I0, beta, t)\n",
    "results_dmp   = SI_DMP(g4, I0, beta, t)\n",
    "\n",
    "# Print results\n",
    "results_mc.merge(results_naive,on='node').merge(results_dmp,on='node').style.hide_index()"
   ]
  },
  {
   "cell_type": "markdown",
   "metadata": {},
   "source": [
    "Most networks are not trees. So the practicality of DMP methods should be assessed against whatever network is of interest. Graph 5 represents a more \"normal\" network based on the Barabasi model with many loops and other common real-world properties like a scale-free degree distribution. In the code below, we give four nodes the chance of being infected initially. Comparing just the first five nodes we see the now familiar pattern of the naive approach overestimating the infection probabilities with the DMP approach closer to the Monte Carlo results. We also show this by computing the average per-node difference in $I_i(t)$ between each analytical method and the MC results. The average error is much lower for DMP, as we'd expect."
   ]
  },
  {
   "cell_type": "code",
   "execution_count": 24,
   "metadata": {},
   "outputs": [
    {
     "name": "stdout",
     "output_type": "stream",
     "text": [
      "MC Runtime:    22.31 seconds\n",
      "Naive Runtime: 0.17 seconds\n",
      "DMP Runtime:   1.51 seconds\n"
     ]
    },
    {
     "data": {
      "text/html": [
       "<style  type=\"text/css\" >\n",
       "</style><table id=\"T_4df980d4_66a1_11eb_8421_a683e7ddf086\" ><thead>    <tr>        <th class=\"col_heading level0 col0\" >node</th>        <th class=\"col_heading level0 col1\" >I(t)_mc</th>        <th class=\"col_heading level0 col2\" >I(t)_naive</th>        <th class=\"col_heading level0 col3\" >I(t)_dmp</th>    </tr></thead><tbody>\n",
       "                <tr>\n",
       "                                <td id=\"T_4df980d4_66a1_11eb_8421_a683e7ddf086row0_col0\" class=\"data row0 col0\" >0</td>\n",
       "                        <td id=\"T_4df980d4_66a1_11eb_8421_a683e7ddf086row0_col1\" class=\"data row0 col1\" >0.82</td>\n",
       "                        <td id=\"T_4df980d4_66a1_11eb_8421_a683e7ddf086row0_col2\" class=\"data row0 col2\" >0.95</td>\n",
       "                        <td id=\"T_4df980d4_66a1_11eb_8421_a683e7ddf086row0_col3\" class=\"data row0 col3\" >0.91</td>\n",
       "            </tr>\n",
       "            <tr>\n",
       "                                <td id=\"T_4df980d4_66a1_11eb_8421_a683e7ddf086row1_col0\" class=\"data row1 col0\" >1</td>\n",
       "                        <td id=\"T_4df980d4_66a1_11eb_8421_a683e7ddf086row1_col1\" class=\"data row1 col1\" >0.71</td>\n",
       "                        <td id=\"T_4df980d4_66a1_11eb_8421_a683e7ddf086row1_col2\" class=\"data row1 col2\" >0.89</td>\n",
       "                        <td id=\"T_4df980d4_66a1_11eb_8421_a683e7ddf086row1_col3\" class=\"data row1 col3\" >0.82</td>\n",
       "            </tr>\n",
       "            <tr>\n",
       "                                <td id=\"T_4df980d4_66a1_11eb_8421_a683e7ddf086row2_col0\" class=\"data row2 col0\" >2</td>\n",
       "                        <td id=\"T_4df980d4_66a1_11eb_8421_a683e7ddf086row2_col1\" class=\"data row2 col1\" >0.53</td>\n",
       "                        <td id=\"T_4df980d4_66a1_11eb_8421_a683e7ddf086row2_col2\" class=\"data row2 col2\" >0.67</td>\n",
       "                        <td id=\"T_4df980d4_66a1_11eb_8421_a683e7ddf086row2_col3\" class=\"data row2 col3\" >0.58</td>\n",
       "            </tr>\n",
       "            <tr>\n",
       "                                <td id=\"T_4df980d4_66a1_11eb_8421_a683e7ddf086row3_col0\" class=\"data row3 col0\" >3</td>\n",
       "                        <td id=\"T_4df980d4_66a1_11eb_8421_a683e7ddf086row3_col1\" class=\"data row3 col1\" >0.66</td>\n",
       "                        <td id=\"T_4df980d4_66a1_11eb_8421_a683e7ddf086row3_col2\" class=\"data row3 col2\" >0.83</td>\n",
       "                        <td id=\"T_4df980d4_66a1_11eb_8421_a683e7ddf086row3_col3\" class=\"data row3 col3\" >0.73</td>\n",
       "            </tr>\n",
       "            <tr>\n",
       "                                <td id=\"T_4df980d4_66a1_11eb_8421_a683e7ddf086row4_col0\" class=\"data row4 col0\" >4</td>\n",
       "                        <td id=\"T_4df980d4_66a1_11eb_8421_a683e7ddf086row4_col1\" class=\"data row4 col1\" >0.48</td>\n",
       "                        <td id=\"T_4df980d4_66a1_11eb_8421_a683e7ddf086row4_col2\" class=\"data row4 col2\" >0.59</td>\n",
       "                        <td id=\"T_4df980d4_66a1_11eb_8421_a683e7ddf086row4_col3\" class=\"data row4 col3\" >0.49</td>\n",
       "            </tr>\n",
       "    </tbody></table>"
      ],
      "text/plain": [
       "<pandas.io.formats.style.Styler at 0x110d33950>"
      ]
     },
     "metadata": {},
     "output_type": "display_data"
    },
    {
     "name": "stdout",
     "output_type": "stream",
     "text": [
      "Naive Avg Error: 0.44\n",
      "DMP Avg Error:   0.17\n"
     ]
    }
   ],
   "source": [
    "# Create initial infection probabilities\n",
    "I0 = pd.DataFrame({'node': list(set(g5['source']).union(set(g5['target']))), 'prob': 0})\n",
    "I0.loc[I0['node'].isin([0,10,20,30]), 'prob'] = 0.4\n",
    "\n",
    "# Run SI functions\n",
    "t = 5 # this makes the numbers a little easier to compare\n",
    "results_mc    = SI_MC(g5, I0, beta, t)\n",
    "results_naive = SI_naive(g5, I0, beta, t)\n",
    "results_dmp   = SI_DMP(g5, I0, beta, t)\n",
    "\n",
    "# Print results\n",
    "display(results_mc.merge(results_naive, on = 'node').merge(results_dmp, on = 'node').head().style.hide_index())\n",
    "\n",
    "# Compute average error per node\n",
    "err_naive = sum(results_naive.iloc[:, 1] - results_mc.iloc[:, 1]) / results_mc.shape[1]\n",
    "err_dmp   = sum(results_dmp.iloc[:, 1] - results_mc.iloc[:, 1]) / results_mc.shape[1]\n",
    "\n",
    "# Print average errors\n",
    "print(\"Naive Avg Error: \" + str(round(err_naive,2)))\n",
    "print(\"DMP Avg Error:   \" + str(round(err_dmp,2)))"
   ]
  },
  {
   "cell_type": "markdown",
   "metadata": {},
   "source": [
    "## Conclusion\n",
    "\n",
    "We described and implemented a dynamic message passing (DMP) function in Python for a simple SI model on a static network and showed that the DMP method\n",
    "\n",
    "- is much faster than a Monte Carlo approach\n",
    "- yields identical results to Monte Carlo on tree-like networks\n",
    "- reduces the echo chamber effect resulting from naive analytical approaches on all networks\n",
    "\n",
    "The source code for this post is available at its [Github repository](https://github.com/hautahi/dmp_echo_chamber)."
   ]
  },
  {
   "cell_type": "markdown",
   "metadata": {},
   "source": [
    "# Appendix: Printing the synthetic networks\n",
    "\n",
    "The following code was use to plot and save the network images presented above."
   ]
  },
  {
   "cell_type": "code",
   "execution_count": 40,
   "metadata": {},
   "outputs": [],
   "source": [
    "# Plot settings\n",
    "p_style = {\"margin\": 30, \"bbox\": (250, 250), \"vertex_color\": \"#FBB4AE\", \"edge_color\": \"#B3CDE3\"}\n",
    "\n",
    "# Graph 1 igraph representation\n",
    "G1 = Graph(directed = True)\n",
    "G1.add_vertices(range(3))\n",
    "G1.add_edges(zip(g1['source'].tolist(),g1['target'].tolist()))\n",
    "\n",
    "# Graph 2 igraph representation\n",
    "G2 = Graph(directed = True)\n",
    "G2.add_vertices(range(3))\n",
    "G2.add_edges(zip(g2['source'].tolist(),g2['target'].tolist()))\n",
    "\n",
    "# Graph 3 igraph representation\n",
    "G3 = Graph(directed = True)\n",
    "G3.add_vertices(range(3))\n",
    "G3.add_edges(zip(g3['source'].tolist(),g3['target'].tolist()))\n",
    "\n",
    "# Save network images\n",
    "lay = G2.layout(\"kk\")\n",
    "plot(G1, layout = lay, vertex_label = G1.vs[\"name\"], **p_style).save('graph1.png')\n",
    "plot(G2, layout = lay, vertex_label = G2.vs[\"name\"], **p_style).save('graph2.png')\n",
    "plot(G3, layout = lay, vertex_label = G3.vs[\"name\"], **p_style).save('graph3.png')\n",
    "plot(G4, layout = G4.layout(\"kk\"), vertex_label = [i.index for i in G4.vs], **p_style).save('graph4.png')\n",
    "plot(G5, layout = G5.layout(\"kk\"), **p_style).save('graph5.svg')"
   ]
  }
 ],
 "metadata": {
  "kernelspec": {
   "display_name": "Python 3",
   "language": "python",
   "name": "python3"
  },
  "language_info": {
   "codemirror_mode": {
    "name": "ipython",
    "version": 3
   },
   "file_extension": ".py",
   "mimetype": "text/x-python",
   "name": "python",
   "nbconvert_exporter": "python",
   "pygments_lexer": "ipython3",
   "version": "3.7.5"
  }
 },
 "nbformat": 4,
 "nbformat_minor": 4
}
